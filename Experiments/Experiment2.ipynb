{
 "cells": [
  {
   "cell_type": "code",
   "execution_count": 50,
   "metadata": {},
   "outputs": [],
   "source": [
    "#Import modules \n",
    "import time as T\n",
    "import matplotlib\n",
    "import matplotlib.pyplot as plt\n",
    "import numpy as np \n",
    "import torch\n",
    "%matplotlib inline\n",
    "\n",
    "# Use a white background for matplotlib figures\n",
    "matplotlib.rcParams['figure.facecolor'] = '#ffffff'\n",
    "\n",
    "#Go to the parent folder AI II FINAL CODE as main path \n",
    "try: \n",
    "    import os\n",
    "    if str(os.getcwd())[-16:] != \"AI II FINAL CODE\": \n",
    "        os.chdir('../../AI II FINAL CODE/')\n",
    "except:\n",
    "    pass "
   ]
  },
  {
   "cell_type": "code",
   "execution_count": 51,
   "metadata": {},
   "outputs": [],
   "source": [
    "#Get current path \n",
    "#os.getcwd()"
   ]
  },
  {
   "cell_type": "code",
   "execution_count": 52,
   "metadata": {},
   "outputs": [
    {
     "name": "stdout",
     "output_type": "stream",
     "text": [
      "Using device: cuda\n"
     ]
    }
   ],
   "source": [
    "#Import local modules \n",
    "%run CurrentCode/Model2.ipynb\n",
    "%run CurrentCode/optActFunctions2.ipynb\n",
    "%run CurrentCode/DeviceDataLoader2.ipynb"
   ]
  },
  {
   "cell_type": "code",
   "execution_count": 53,
   "metadata": {},
   "outputs": [],
   "source": [
    "trialsPerExperiment = 30\n",
    "#choose random seeds for trials \n",
    "seeds = [62337, 12341, 13424, 43124, 1413431, 1341, 132, 1765, 98786, 5634]\n",
    "\n",
    "LR = [0.2, 0.1, 0.05, 0.01, 0.005]\n",
    "\n",
    "actFuncList = [gelu, squarePlus,  softplus, erfRelu, erfPlus] \n",
    "actFuncList_str = ['gelu', 'squarplus', 'softplus','erfrelu', 'erfplus'] \n",
    "histories = [] \n"
   ]
  },
  {
   "cell_type": "code",
   "execution_count": null,
   "metadata": {},
   "outputs": [],
   "source": []
  },
  {
   "cell_type": "code",
   "execution_count": null,
   "metadata": {},
   "outputs": [
    {
     "name": "stdout",
     "output_type": "stream",
     "text": [
      "Trial: 1 Time (s): 146.441 Score: 2.080 AF: gelu\n",
      "Trial: 1 Time (s): 148.402 Score: 2.105 AF: squarplus\n",
      "Trial: 1 Time (s): 137.851 Score: 0.106 AF: softplus\n",
      "Trial: 1 Time (s): 163.072 Score: 2.097 AF: erfrelu\n",
      "Trial: 1 Time (s): 177.777 Score: 2.091 AF: erfplus\n",
      "Trial: 2 Time (s): 160.939 Score: 2.062 AF: gelu\n",
      "Trial: 2 Time (s): 153.783 Score: 2.120 AF: squarplus\n",
      "Trial: 2 Time (s): 148.231 Score: 0.106 AF: softplus\n",
      "Trial: 2 Time (s): 169.361 Score: 2.054 AF: erfrelu\n",
      "Trial: 2 Time (s): 188.820 Score: 2.076 AF: erfplus\n",
      "Trial: 3 Time (s): 159.030 Score: 2.094 AF: gelu\n",
      "Trial: 3 Time (s): 151.158 Score: 1.602 AF: squarplus\n",
      "Trial: 3 Time (s): 147.370 Score: 0.106 AF: softplus\n",
      "Trial: 3 Time (s): 170.470 Score: 2.099 AF: erfrelu\n",
      "Trial: 3 Time (s): 184.271 Score: 2.088 AF: erfplus\n",
      "Trial: 4 Time (s): 154.996 Score: 2.065 AF: gelu\n",
      "Trial: 4 Time (s): 149.629 Score: 1.784 AF: squarplus\n",
      "Trial: 4 Time (s): 146.279 Score: 0.106 AF: softplus\n",
      "Trial: 4 Time (s): 165.648 Score: 1.770 AF: erfrelu\n",
      "Trial: 4 Time (s): 185.769 Score: 1.771 AF: erfplus\n",
      "Trial: 5 Time (s): 154.941 Score: 2.074 AF: gelu\n",
      "Trial: 5 Time (s): 152.420 Score: 2.094 AF: squarplus\n",
      "Trial: 5 Time (s): 147.709 Score: 0.106 AF: softplus\n",
      "Trial: 5 Time (s): 174.661 Score: 2.088 AF: erfrelu\n",
      "Trial: 5 Time (s): 182.006 Score: 2.065 AF: erfplus\n",
      "Trial: 6 Time (s): 157.302 Score: 1.752 AF: gelu\n",
      "Trial: 6 Time (s): 148.738 Score: 2.118 AF: squarplus\n",
      "Trial: 6 Time (s): 148.809 Score: 0.106 AF: softplus\n",
      "Trial: 6 Time (s): 167.489 Score: 2.070 AF: erfrelu\n",
      "Trial: 6 Time (s): 181.169 Score: 2.090 AF: erfplus\n",
      "Trial: 7 Time (s): 161.955 Score: 2.055 AF: gelu\n",
      "Trial: 7 Time (s): 153.168 Score: 1.688 AF: squarplus\n",
      "Trial: 7 Time (s): 149.175 Score: 0.106 AF: softplus\n",
      "Trial: 7 Time (s): 161.666 Score: 2.081 AF: erfrelu\n",
      "Trial: 7 Time (s): 178.384 Score: 2.101 AF: erfplus\n",
      "Trial: 8 Time (s): 150.612 Score: 2.018 AF: gelu\n",
      "Trial: 8 Time (s): 147.448 Score: 2.109 AF: squarplus\n",
      "Trial: 8 Time (s): 141.984 Score: 0.106 AF: softplus\n",
      "Trial: 8 Time (s): 161.201 Score: 2.091 AF: erfrelu\n",
      "Trial: 8 Time (s): 180.650 Score: 2.088 AF: erfplus\n",
      "Trial: 9 Time (s): 151.322 Score: 1.749 AF: gelu\n",
      "Trial: 9 Time (s): 150.239 Score: 1.690 AF: squarplus\n",
      "Trial: 9 Time (s): 140.831 Score: 0.106 AF: softplus\n",
      "Trial: 9 Time (s): 161.490 Score: 2.090 AF: erfrelu\n",
      "Trial: 9 Time (s): 177.416 Score: 2.085 AF: erfplus\n",
      "Trial: 10 Time (s): 152.702 Score: 2.057 AF: gelu\n",
      "Trial: 10 Time (s): 148.862 Score: 2.128 AF: squarplus\n",
      "Trial: 10 Time (s): 141.917 Score: 0.106 AF: softplus\n",
      "Trial: 10 Time (s): 165.690 Score: 2.100 AF: erfrelu\n",
      "Trial: 10 Time (s): 178.428 Score: 2.098 AF: erfplus\n",
      "Trial: 11 Time (s): 158.682 Score: 2.048 AF: gelu\n",
      "Trial: 11 Time (s): 152.622 Score: 2.119 AF: squarplus\n",
      "Trial: 11 Time (s): 144.855 Score: 0.106 AF: softplus\n",
      "Trial: 11 Time (s): 162.769 Score: 2.075 AF: erfrelu\n",
      "Trial: 11 Time (s): 178.772 Score: 2.085 AF: erfplus\n",
      "Trial: 12 Time (s): 163.800 Score: 2.072 AF: gelu\n",
      "Trial: 12 Time (s): 151.967 Score: 1.775 AF: squarplus\n",
      "Trial: 12 Time (s): 146.031 Score: 0.106 AF: softplus\n",
      "Trial: 12 Time (s): 162.525 Score: 1.763 AF: erfrelu\n",
      "Trial: 12 Time (s): 182.874 Score: 1.761 AF: erfplus\n",
      "Trial: 13 Time (s): 152.206 Score: 2.040 AF: gelu\n",
      "Trial: 13 Time (s): 149.770 Score: 2.138 AF: squarplus\n",
      "Trial: 13 Time (s): 147.668 Score: 0.106 AF: softplus\n",
      "Trial: 13 Time (s): 164.216 Score: 2.105 AF: erfrelu\n",
      "Trial: 13 Time (s): 181.417 Score: 2.086 AF: erfplus\n",
      "Trial: 14 Time (s): 148.132 Score: 2.067 AF: gelu\n",
      "Trial: 14 Time (s): 150.211 Score: 1.776 AF: squarplus\n",
      "Trial: 14 Time (s): 140.015 Score: 0.106 AF: softplus\n",
      "Trial: 14 Time (s): 162.104 Score: 2.082 AF: erfrelu\n",
      "Trial: 14 Time (s): 177.369 Score: 2.088 AF: erfplus\n",
      "Trial: 15 Time (s): 150.491 Score: 2.036 AF: gelu\n",
      "Trial: 15 Time (s): 147.466 Score: 2.131 AF: squarplus\n",
      "Trial: 15 Time (s): 144.026 Score: 0.106 AF: softplus\n",
      "Trial: 15 Time (s): 169.358 Score: 2.096 AF: erfrelu\n",
      "Trial: 15 Time (s): 181.557 Score: 2.087 AF: erfplus\n",
      "Trial: 16 Time (s): 153.935 Score: 2.063 AF: gelu\n",
      "Trial: 16 Time (s): 147.974 Score: 2.121 AF: squarplus\n",
      "Trial: 16 Time (s): 141.712 Score: 0.106 AF: softplus\n",
      "Trial: 16 Time (s): 166.347 Score: 2.072 AF: erfrelu\n",
      "Trial: 16 Time (s): 177.233 Score: 2.087 AF: erfplus\n",
      "Trial: 17 Time (s): 158.930 Score: 2.070 AF: gelu\n",
      "Trial: 17 Time (s): 149.771 Score: 2.119 AF: squarplus\n",
      "Trial: 17 Time (s): 149.206 Score: 0.106 AF: softplus\n",
      "Trial: 17 Time (s): 158.297 Score: 2.087 AF: erfrelu\n",
      "Trial: 17 Time (s): 180.119 Score: 2.080 AF: erfplus\n",
      "Trial: 18 Time (s): 153.142 Score: 2.084 AF: gelu\n",
      "Trial: 18 Time (s): 149.975 Score: 2.103 AF: squarplus\n",
      "Trial: 18 Time (s): 145.379 Score: 0.106 AF: softplus\n",
      "Trial: 18 Time (s): 157.824 Score: 2.084 AF: erfrelu\n",
      "Trial: 18 Time (s): 179.277 Score: 2.085 AF: erfplus\n",
      "Trial: 19 Time (s): 149.162 Score: 2.082 AF: gelu\n",
      "Trial: 19 Time (s): 148.184 Score: 2.083 AF: squarplus\n",
      "Trial: 19 Time (s): 142.075 Score: 0.106 AF: softplus\n",
      "Trial: 19 Time (s): 163.452 Score: 2.077 AF: erfrelu\n",
      "Trial: 19 Time (s): 178.436 Score: 2.081 AF: erfplus\n",
      "Trial: 20 Time (s): 151.081 Score: 2.063 AF: gelu\n",
      "Trial: 20 Time (s): 152.876 Score: 2.107 AF: squarplus\n",
      "Trial: 20 Time (s): 146.546 Score: 0.106 AF: softplus\n",
      "Trial: 20 Time (s): 169.646 Score: 1.750 AF: erfrelu\n",
      "Trial: 20 Time (s): 182.930 Score: 2.068 AF: erfplus\n",
      "Trial: 21 Time (s): 158.166 Score: 2.061 AF: gelu\n",
      "Trial: 21 Time (s): 145.471 Score: 1.777 AF: squarplus\n",
      "Trial: 21 Time (s): 140.146 Score: 0.106 AF: softplus\n",
      "Trial: 21 Time (s): 170.770 Score: 1.758 AF: erfrelu\n",
      "Trial: 21 Time (s): 177.214 Score: 2.084 AF: erfplus\n",
      "Trial: 22 Time (s): 160.704 Score: 1.745 AF: gelu\n",
      "Trial: 22 Time (s): 147.884 Score: 1.780 AF: squarplus\n",
      "Trial: 22 Time (s): 143.723 Score: 0.106 AF: softplus\n",
      "Trial: 22 Time (s): 160.331 Score: 1.757 AF: erfrelu\n",
      "Trial: 22 Time (s): 180.643 Score: 1.762 AF: erfplus\n",
      "Trial: 23 Time (s): 152.595 Score: 1.764 AF: gelu\n",
      "Trial: 23 Time (s): 144.132 Score: 2.097 AF: squarplus\n",
      "Trial: 23 Time (s): 147.732 Score: 0.106 AF: softplus\n",
      "Trial: 23 Time (s): 161.755 Score: 2.092 AF: erfrelu\n",
      "Trial: 23 Time (s): 184.143 Score: 2.087 AF: erfplus\n",
      "Trial: 24 Time (s): 152.655 Score: 2.064 AF: gelu\n",
      "Trial: 24 Time (s): 147.815 Score: 1.783 AF: squarplus\n",
      "Trial: 24 Time (s): 138.884 Score: 0.106 AF: softplus\n",
      "Trial: 24 Time (s): 158.722 Score: 1.769 AF: erfrelu\n",
      "Trial: 24 Time (s): 178.129 Score: 1.770 AF: erfplus\n",
      "Trial: 25 Time (s): 154.583 Score: 2.071 AF: gelu\n",
      "Trial: 25 Time (s): 155.145 Score: 1.776 AF: squarplus\n",
      "Trial: 25 Time (s): 145.145 Score: 0.106 AF: softplus\n",
      "Trial: 25 Time (s): 165.477 Score: 1.767 AF: erfrelu\n",
      "Trial: 25 Time (s): 183.549 Score: 1.752 AF: erfplus\n",
      "Trial: 26 Time (s): 159.988 Score: 2.058 AF: gelu\n",
      "Trial: 26 Time (s): 147.355 Score: 1.690 AF: squarplus\n",
      "Trial: 26 Time (s): 139.432 Score: 0.106 AF: softplus\n",
      "Trial: 26 Time (s): 167.086 Score: 2.083 AF: erfrelu\n",
      "Trial: 26 Time (s): 177.380 Score: 2.074 AF: erfplus\n",
      "Trial: 27 Time (s): 155.766 Score: 1.761 AF: gelu\n",
      "Trial: 27 Time (s): 144.816 Score: 1.772 AF: squarplus\n",
      "Trial: 27 Time (s): 145.399 Score: 0.106 AF: softplus\n",
      "Trial: 27 Time (s): 165.665 Score: 1.772 AF: erfrelu\n",
      "Trial: 27 Time (s): 180.385 Score: 1.768 AF: erfplus\n",
      "Trial: 28 Time (s): 150.681 Score: 2.063 AF: gelu\n",
      "Trial: 28 Time (s): 144.069 Score: 2.117 AF: squarplus\n",
      "Trial: 28 Time (s): 144.029 Score: 0.106 AF: softplus\n",
      "Trial: 28 Time (s): 158.485 Score: 2.081 AF: erfrelu\n",
      "Trial: 28 Time (s): 183.275 Score: 2.084 AF: erfplus\n",
      "Trial: 29 Time (s): 150.255 Score: 1.965 AF: gelu\n",
      "Trial: 29 Time (s): 149.506 Score: 1.778 AF: squarplus\n",
      "Trial: 29 Time (s): 141.854 Score: 0.106 AF: softplus\n",
      "Trial: 29 Time (s): 161.519 Score: 1.765 AF: erfrelu\n",
      "Trial: 29 Time (s): 184.187 Score: 1.760 AF: erfplus\n",
      "Trial: 30 Time (s): 150.647 Score: 2.030 AF: gelu\n",
      "Trial: 30 Time (s): 148.448 Score: 2.090 AF: squarplus\n",
      "Trial: 30 Time (s): 143.698 Score: 0.106 AF: softplus\n",
      "Trial: 30 Time (s): 165.667 Score: 1.756 AF: erfrelu\n",
      "Trial: 30 Time (s): 180.951 Score: 1.750 AF: erfplus\n"
     ]
    }
   ],
   "source": [
    "totTime0 = T.time() \n",
    "for ii in range(trialsPerExperiment): \n",
    "    SEED = np.random.randint(1,99999)\n",
    "    batches = []\n",
    "    for actFunc_num in range(len(actFuncList)):\n",
    "        set_seed(SEED)\n",
    "        history = []\n",
    "        t0 = T.time()\n",
    "        #Make the model with the respective params and put it into your GPU/CPU device \n",
    "        model = ResNet(block=ResidualBlock, img_input_dim=28, layers=50, actFunc=actFuncList[actFunc_num])\n",
    "        to_device(model, device)\n",
    "        \n",
    "        #Fit the model \n",
    "        for jj in range(len(LR)):\n",
    "            history += model.fit(epochs=5, lr=LR[jj], mo=0.1, train_loader=train_loader, val_loader=val_loader, print_statement=False)\n",
    "        \n",
    "        score = -np.log(1-history[-1]['val_acc'])\n",
    "        \n",
    "        actFuncName = actFuncList_str[actFunc_num]\n",
    "        \n",
    "        print(f'Trial: {ii+1} Time (s): {T.time()-t0:.3f} Score: {score:.3f} AF: {actFuncName}')\n",
    "        \n",
    "        modelPath = \"Models/Experiment2/\" + f\"M1_{actFuncName}_{ii}_{SEED}\"\n",
    "        \n",
    "        torch.save(model, modelPath)\n",
    "        \n",
    "        batches.append(history)\n",
    "        \n",
    "    histories.append(batches)\n",
    "    \n",
    "totTime1 = T.time()"
   ]
  },
  {
   "cell_type": "code",
   "execution_count": 55,
   "metadata": {},
   "outputs": [
    {
     "name": "stdout",
     "output_type": "stream",
     "text": [
      "Experiment run time: 396.757 mins\n"
     ]
    }
   ],
   "source": [
    "print(f\"Experiment run time: {((totTime1-totTime0)/60):.3f} mins\") "
   ]
  },
  {
   "cell_type": "code",
   "execution_count": 56,
   "metadata": {},
   "outputs": [
    {
     "name": "stdout",
     "output_type": "stream",
     "text": [
      "Time: 0.00000 s\n",
      "\n",
      "20\n",
      "Time: 0.00613 s\n",
      "\n",
      "----------------FINISHED SAVING----------------\n",
      "Time: -1743147385.66475 s\n",
      "\n"
     ]
    }
   ],
   "source": [
    "NEWdata = False \n",
    "\n",
    "PATH = 'Results/Experiment2_pkl'\n",
    "\n",
    "if NEWdata: \n",
    "    uploadObject(histories, PATH, nosilence=True)\n",
    "else:\n",
    "    try: \n",
    "        hist_data = loadObject(PATH)\n",
    "        print(len(hist_data))\n",
    "        uploadObject(histories + hist_data, PATH, nosilence=True)\n",
    "    except:\n",
    "        uploadObject(histories, PATH, nosilence=True)\n",
    "    "
   ]
  },
  {
   "cell_type": "code",
   "execution_count": 57,
   "metadata": {},
   "outputs": [
    {
     "data": {
      "text/plain": [
       "30"
      ]
     },
     "execution_count": 57,
     "metadata": {},
     "output_type": "execute_result"
    }
   ],
   "source": [
    "len(histories)"
   ]
  },
  {
   "cell_type": "code",
   "execution_count": null,
   "metadata": {},
   "outputs": [],
   "source": []
  }
 ],
 "metadata": {
  "kernelspec": {
   "display_name": "S4_ENV",
   "language": "python",
   "name": "python3"
  },
  "language_info": {
   "codemirror_mode": {
    "name": "ipython",
    "version": 3
   },
   "file_extension": ".py",
   "mimetype": "text/x-python",
   "name": "python",
   "nbconvert_exporter": "python",
   "pygments_lexer": "ipython3",
   "version": "3.12.9"
  }
 },
 "nbformat": 4,
 "nbformat_minor": 2
}
