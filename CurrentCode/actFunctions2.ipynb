{
 "cells": [
  {
   "cell_type": "code",
   "execution_count": null,
   "metadata": {},
   "outputs": [],
   "source": [
    "#Import modules \n",
    "import torch.nn as nn\n",
    "import torch\n",
    "import numpy as np\n",
    "from torch import exp, where, erf, tensor, sin, cos, log \n",
    "from torch import pow as POW\n",
    "from numpy import pi\n",
    "import matplotlib.pyplot as plt"
   ]
  },
  {
   "cell_type": "code",
   "execution_count": null,
   "metadata": {},
   "outputs": [],
   "source": [
    "#https://arxiv.org/abs/2112.11687\n",
    "#custom grad activation function helper for squareplus\n",
    "class squarePlus_helper(torch.autograd.Function):\n",
    "        \n",
    "    @staticmethod\n",
    "    def forward(ctx, data:tensor):\n",
    "\n",
    "        val = POW(data, 2) + 1\n",
    "        \n",
    "        #Save parameteres for backward function \n",
    "        ctx.save_for_backward(data, val)\n",
    "\n",
    "        return 0.5*(POW(val, 0.5) + data) \n",
    "        \n",
    "    @staticmethod\n",
    "    def backward(ctx, grad_output:tensor):\n",
    "\n",
    "        #call parameters from forward function \n",
    "        (data, val) = ctx.saved_tensors\n",
    "\n",
    "        grad = 0.5*(1 + data*POW(val, -0.5))\n",
    "        \n",
    "        return grad*grad_output\n",
    "\n",
    "#Custom wrapper to make previous class a function \n",
    "class squarePlus(nn.Module):\n",
    "\n",
    "    def __init__(self) -> None:\n",
    "        super(squarePlus, self).__init__()\n",
    "        self.fn =  squarePlus_helper.apply\n",
    "\n",
    "    def forward(self, x) -> tensor:\n",
    "\n",
    "        return self.fn(x)"
   ]
  },
  {
   "cell_type": "code",
   "execution_count": null,
   "metadata": {},
   "outputs": [],
   "source": [
    "#https://arxiv.org/abs/2306.01822\n",
    "#custom grad activation function helper for erf plus\n",
    "class erfRelu_helper(torch.autograd.Function):\n",
    "        \n",
    "    @staticmethod\n",
    "    def forward(ctx, data:tensor):\n",
    "        \n",
    "        #Save parameteres for backward function \n",
    "        ctx.save_for_backward(data)\n",
    "\n",
    "        return where(data < 0, np.sqrt(pi)/2*erf(data), data) #+ np.sqrt(pi)/2\n",
    "        \n",
    "    @staticmethod\n",
    "    def backward(ctx, grad_output:tensor):\n",
    "        \n",
    "        #call parameters from forward function \n",
    "        (data, ) = ctx.saved_tensors\n",
    "\n",
    "        grad = where(data < 0, exp(-POW(data, 2)), 1)\n",
    "        \n",
    "        return grad*grad_output\n",
    "\n",
    "#Custom wrapper to make previous class a function \n",
    "class erfRelu(nn.Module):\n",
    "\n",
    "    def __init__(self) -> None:\n",
    "        super(erfRelu, self).__init__()\n",
    "        self.fn = erfRelu_helper.apply\n",
    "\n",
    "    def forward(self, x) -> tensor:\n",
    "\n",
    "        return self.fn(x)"
   ]
  },
  {
   "cell_type": "code",
   "execution_count": null,
   "metadata": {},
   "outputs": [],
   "source": [
    "#Our custom grad activation function helper for erf plus\n",
    "class erfPlus_helper(torch.autograd.Function):\n",
    "        \n",
    "    @staticmethod\n",
    "    def forward(ctx, data:tensor):\n",
    "        \n",
    "        a = 1\n",
    "        \n",
    "        grad = where(data < 0, -erf(a*POW(data, -1)), 1)\n",
    "        \n",
    "        #Save parameteres for backward function \n",
    "        ctx.save_for_backward(data, grad)\n",
    "\n",
    "        return data*grad\n",
    "        \n",
    "    @staticmethod\n",
    "    def backward(ctx, grad_output:tensor):\n",
    "        \n",
    "        a = 1\n",
    "\n",
    "        #call parameters from forward function \n",
    "        (data, grad) = ctx.saved_tensors\n",
    "\n",
    "        val = a*POW(data, -1)\n",
    "\n",
    "        grad = grad + where(data < 0, 2/np.sqrt(np.pi)*val*exp(-POW(val, 2)), 0)\n",
    "        \n",
    "        return grad*grad_output\n",
    "\n",
    "#Custom wrapper to make previous class a function \n",
    "class erfPlus(nn.Module):\n",
    "\n",
    "    def __init__(self) -> None:\n",
    "        super(erfPlus, self).__init__()\n",
    "        self.fn = erfPlus_helper.apply\n",
    "\n",
    "    def forward(self, x) -> tensor:\n",
    "\n",
    "        return self.fn(x)"
   ]
  },
  {
   "cell_type": "code",
   "execution_count": null,
   "metadata": {},
   "outputs": [],
   "source": [
    "\n",
    "#custom grad activation function helper for degrreeeplus (A smooth two step activation function)\n",
    "class degreePlus_helper(torch.autograd.Function):\n",
    "        \n",
    "    @staticmethod\n",
    "    def forward(ctx, data:tensor):\n",
    "\n",
    "        a = 2*4\n",
    "\n",
    "        val = POW(data, a) + 1\n",
    "        \n",
    "        #Save parameteres for backward function \n",
    "        ctx.save_for_backward(data, val)\n",
    "\n",
    "        return 0.5*(POW(val, 1/a) + data) \n",
    "        \n",
    "    @staticmethod\n",
    "    def backward(ctx, grad_output:tensor):\n",
    "\n",
    "        a = 2*4 \n",
    "\n",
    "        #call parameters from forward function \n",
    "        (data, val) = ctx.saved_tensors\n",
    "\n",
    "        grad = 0.5*(1 + data**(a-1)*POW(val, 1/a-1))\n",
    "        \n",
    "        return grad*grad_output\n",
    "\n",
    "#Custom wrapper to make previous class a function \n",
    "class degreePlus(nn.Module):\n",
    "\n",
    "    def __init__(self) -> None:\n",
    "        super(degreePlus, self).__init__()\n",
    "        self.fn =  degreePlus_helper.apply\n",
    "\n",
    "    def forward(self, x) -> tensor:\n",
    "\n",
    "        return self.fn(x)"
   ]
  },
  {
   "cell_type": "code",
   "execution_count": 11,
   "metadata": {},
   "outputs": [],
   "source": [
    "c = 1"
   ]
  },
  {
   "cell_type": "markdown",
   "metadata": {},
   "source": []
  },
  {
   "cell_type": "code",
   "execution_count": null,
   "metadata": {},
   "outputs": [
    {
     "name": "stdout",
     "output_type": "stream",
     "text": [
      "Gradient function erfPlus() is correct\n",
      "Gradient function erfRelu() is correct\n",
      "Gradient function squarePlus() is correct\n",
      "Gradient function degreePlus() is correct\n"
     ]
    }
   ],
   "source": [
    "#Check that the gradients for each implemented activation function is correct \n",
    "if c == 1: \n",
    "\n",
    "    actFuncs = [erfPlus(), erfRelu(), squarePlus(), degreePlus()] \n",
    "    #Test function and to see if backward works \n",
    "    torch.manual_seed(2)\n",
    "    \n",
    "    data = torch.randn(50, dtype=torch.float64, requires_grad=True) \n",
    "            \n",
    "    for actFunc in actFuncs:\n",
    "\n",
    "        try: \n",
    "            torch.autograd.gradcheck(actFunc, data, eps=1e-8, atol=1e-7) \n",
    "            print(f'Gradient function {str(actFunc)} is correct')\n",
    "        except: \n",
    "            print(f'Gradient function {str(actFunc)} is NOT correct')"
   ]
  },
  {
   "cell_type": "code",
   "execution_count": 13,
   "metadata": {},
   "outputs": [],
   "source": [
    "#torch.autograd.gradcheck(testing_actFunc, data, eps=1e-8, atol=1e-7)"
   ]
  },
  {
   "cell_type": "code",
   "execution_count": 14,
   "metadata": {},
   "outputs": [
    {
     "data": {
      "image/png": "[encoded data removed]",
      "text/plain": [
       "<Figure size 640x480 with 1 Axes>"
      ]
     },
     "metadata": {},
     "output_type": "display_data"
    }
   ],
   "source": [
    "#Test if the function plots correct graph \n",
    "if c == 1: \n",
    "    dt = 0.1\n",
    "    testing_actFunc = erfRelu()\n",
    "    datax = torch.arange(-4, 4, dt, dtype=torch.float64, requires_grad=True) \n",
    "    \n",
    "    datay = testing_actFunc.forward(datax)\n",
    "\n",
    "    datad = (datay[1:]-datay[:-1])/dt\n",
    "    \n",
    "    plt.plot(datax.detach().numpy(), datay.detach().numpy(), label=\"f\")\n",
    "    plt.plot(datax[1:].detach().numpy(), datad.detach().numpy(), label=\"nf'\")\n",
    "    plt.grid()\n",
    "    plt.legend()\n",
    "    plt.show()"
   ]
  },
  {
   "cell_type": "code",
   "execution_count": null,
   "metadata": {},
   "outputs": [],
   "source": []
  },
  {
   "cell_type": "code",
   "execution_count": null,
   "metadata": {},
   "outputs": [],
   "source": []
  },
  {
   "cell_type": "code",
   "execution_count": null,
   "metadata": {},
   "outputs": [],
   "source": []
  },
  {
   "cell_type": "code",
   "execution_count": null,
   "metadata": {},
   "outputs": [],
   "source": []
  },
  {
   "cell_type": "code",
   "execution_count": null,
   "metadata": {},
   "outputs": [],
   "source": []
  },
  {
   "cell_type": "code",
   "execution_count": null,
   "metadata": {},
   "outputs": [],
   "source": []
  },
  {
   "cell_type": "code",
   "execution_count": null,
   "metadata": {},
   "outputs": [],
   "source": []
  },
  {
   "cell_type": "code",
   "execution_count": null,
   "metadata": {},
   "outputs": [],
   "source": []
  },
  {
   "cell_type": "code",
   "execution_count": null,
   "metadata": {},
   "outputs": [],
   "source": []
  },
  {
   "cell_type": "code",
   "execution_count": null,
   "metadata": {},
   "outputs": [],
   "source": []
  },
  {
   "cell_type": "code",
   "execution_count": null,
   "metadata": {},
   "outputs": [],
   "source": []
  },
  {
   "cell_type": "code",
   "execution_count": null,
   "metadata": {},
   "outputs": [],
   "source": []
  },
  {
   "cell_type": "code",
   "execution_count": null,
   "metadata": {},
   "outputs": [],
   "source": []
  }
 ],
 "metadata": {
  "kernelspec": {
   "display_name": "S4_ENV",
   "language": "python",
   "name": "python3"
  },
  "language_info": {
   "codemirror_mode": {
    "name": "ipython",
    "version": 3
   },
   "file_extension": ".py",
   "mimetype": "text/x-python",
   "name": "python",
   "nbconvert_exporter": "python",
   "pygments_lexer": "ipython3",
   "version": "3.12.9"
  }
 },
 "nbformat": 4,
 "nbformat_minor": 2
}
